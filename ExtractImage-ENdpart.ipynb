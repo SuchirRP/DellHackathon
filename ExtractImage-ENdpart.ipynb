{
 "cells": [
  {
   "cell_type": "code",
   "execution_count": 1,
   "id": "85dd7d86-e5c0-4958-8c76-984d26d2742f",
   "metadata": {},
   "outputs": [],
   "source": [
    "#library imports\n",
    "import numpy as np\n",
    "from pdf2image import convert_from_path\n",
    "import cv2"
   ]
  },
  {
   "cell_type": "code",
   "execution_count": 2,
   "id": "21d2f877-edf8-4b4e-8fd3-da67fa4486f1",
   "metadata": {},
   "outputs": [],
   "source": [
    "def convert_pdf_to_image(document, dpi):\n",
    "    images = []\n",
    "    pdf_images = convert_from_path(document, dpi=dpi)\n",
    "    for image in pdf_images:\n",
    "        # Convert PIL image to NumPy array\n",
    "        np_image = np.array(image)\n",
    "        images.append(np_image)\n",
    "    return images"
   ]
  },
  {
   "cell_type": "code",
   "execution_count": 3,
   "id": "4475e8df-9a71-4192-88e5-5fd3c550da56",
   "metadata": {},
   "outputs": [],
   "source": [
    "#converts pdf to image\n",
    "#images = convert_pdf_to_image('1. Matter in Our Surroundings.pdf', dpi=300)\n",
    "#print(len(images))\n",
    "images = cv2.imread(\"WhatsApp Image 2023-10-08 at 6.40.27 PM.jpeg\");"
   ]
  },
  {
   "cell_type": "code",
   "execution_count": 4,
   "id": "6a4b04ab-9b3a-478f-8638-592103f36cbf",
   "metadata": {},
   "outputs": [],
   "source": [
    "#show base image \n",
    "#cv2.imshow(\"image\", images[0]);\n",
    "#cv2.waitKey(0);\n",
    "#cv2.destroyAllWindows();"
   ]
  },
  {
   "cell_type": "code",
   "execution_count": 5,
   "id": "832b7d71-6655-472d-8e7d-08acde492fcb",
   "metadata": {},
   "outputs": [],
   "source": [
    "#create grayscale image\n",
    "#first_page = images[0]\n",
    "first_page = images\n",
    "gray = cv2.cvtColor(first_page, cv2.COLOR_BGR2GRAY)\n",
    "edges = cv2.Canny(gray, 50, 150, apertureSize=3)\n",
    "\n",
    "\n",
    "#cv2.imshow('Edges', edges)\n",
    "#cv2.waitKey(0)\n",
    "#cv2.destroyAllWindows()"
   ]
  },
  {
   "cell_type": "code",
   "execution_count": 6,
   "id": "ee4867ec-b638-44fd-8481-d8097109a5de",
   "metadata": {},
   "outputs": [],
   "source": [
    "def detect_images_in_page(page):\n",
    "    # Convert the page to grayscale\n",
    "    gray = cv2.cvtColor(page, cv2.COLOR_BGR2GRAY)\n",
    "\n",
    "    # Apply Canny edge detection to find edges in the image\n",
    "    edges = cv2.Canny(gray, 50, 150, apertureSize=3)\n",
    "\n",
    "    # Find contours in the edges\n",
    "    contours, _ = cv2.findContours(edges, cv2.RETR_EXTERNAL, cv2.CHAIN_APPROX_SIMPLE)\n",
    "\n",
    "    # Filter out small contours (text regions) based on area\n",
    "    min_area = 1000  # Adjust this threshold as needed\n",
    "    detected_images = []\n",
    "    for contour in contours:\n",
    "        if cv2.contourArea(contour) > min_area:\n",
    "            x, y, w, h = cv2.boundingRect(contour)\n",
    "            detected_images.append(page[y:y+h, x:x+w])\n",
    "\n",
    "    return detected_images"
   ]
  },
  {
   "cell_type": "code",
   "execution_count": 7,
   "id": "eefc8995-0e38-44ef-b402-e6655c459a45",
   "metadata": {},
   "outputs": [
    {
     "name": "stdout",
     "output_type": "stream",
     "text": [
      "821\n"
     ]
    }
   ],
   "source": [
    "#images = convert_pdf_to_image('1. Matter in Our Surroundings.pdf', dpi=300)\n",
    "print(len(images))\n",
    "\n",
    "first_page = images\n",
    "\n",
    "# Detect images in the first page while ignoring text\n",
    "detected_images = detect_images_in_page(first_page)\n",
    "\n",
    "# Display detected images\n",
    "for i, img in enumerate(detected_images):\n",
    "    cv2.imshow(f'Detected Image {i+1}', img)\n",
    "\n",
    "cv2.waitKey(0)\n",
    "cv2.destroyAllWindows()"
   ]
  },
  {
   "cell_type": "code",
   "execution_count": null,
   "id": "3b8cdcdd-808a-4054-a7cb-5c9c3c4d60cb",
   "metadata": {},
   "outputs": [],
   "source": []
  }
 ],
 "metadata": {
  "kernelspec": {
   "display_name": "Python 3 (ipykernel)",
   "language": "python",
   "name": "python3"
  },
  "language_info": {
   "codemirror_mode": {
    "name": "ipython",
    "version": 3
   },
   "file_extension": ".py",
   "mimetype": "text/x-python",
   "name": "python",
   "nbconvert_exporter": "python",
   "pygments_lexer": "ipython3",
   "version": "3.11.5"
  }
 },
 "nbformat": 4,
 "nbformat_minor": 5
}
